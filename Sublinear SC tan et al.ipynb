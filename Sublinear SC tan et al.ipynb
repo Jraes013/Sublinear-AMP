{
 "cells": [
  {
   "cell_type": "code",
   "execution_count": 4,
   "id": "1a6623df",
   "metadata": {},
   "outputs": [
    {
     "name": "stdout",
     "output_type": "stream",
     "text": [
      "The autoreload extension is already loaded. To reload it, use:\n",
      "  %reload_ext autoreload\n",
      "74\n",
      "Delta:  0.1423076923076923 Multiple of ITL 1.0 Modified delta 0.1423076923076923\n",
      "Run:  0\n",
      "Delta:  0.20192307692307693 Multiple of ITL 1.4285714285714286 Modified delta 0.20192307692307693\n",
      "Run:  0\n",
      "Delta:  0.26346153846153847 Multiple of ITL 1.8571428571428572 Modified delta 0.26346153846153847\n",
      "Run:  0\n",
      "Delta:  0.325 Multiple of ITL 2.2857142857142856 Modified delta 0.325\n",
      "Run:  0\n",
      "Delta:  0.38461538461538464 Multiple of ITL 2.7142857142857144 Modified delta 0.38461538461538464\n",
      "Run:  0\n",
      "Delta:  0.4461538461538462 Multiple of ITL 3.142857142857143 Modified delta 0.4461538461538462\n",
      "Run:  0\n",
      "Delta:  0.5076923076923077 Multiple of ITL 3.571428571428571 Modified delta 0.5076923076923077\n",
      "Run:  0\n",
      "Delta:  0.5692307692307692 Multiple of ITL 4.0 Modified delta 0.5692307692307692\n",
      "Run:  0\n",
      "Delta:  0.6288461538461538 Multiple of ITL 4.428571428571429 Modified delta 0.6288461538461538\n",
      "Run:  0\n",
      "Delta:  0.6903846153846154 Multiple of ITL 4.857142857142857 Modified delta 0.6903846153846154\n",
      "Run:  0\n",
      "Delta:  0.7519230769230769 Multiple of ITL 5.285714285714286 Modified delta 0.7519230769230769\n",
      "Run:  0\n",
      "Delta:  0.8115384615384615 Multiple of ITL 5.714285714285714 Modified delta 0.8115384615384615\n",
      "Run:  0\n",
      "Delta:  0.8730769230769231 Multiple of ITL 6.142857142857142 Modified delta 0.8730769230769231\n",
      "Run:  0\n",
      "Delta:  0.9346153846153846 Multiple of ITL 6.571428571428571 Modified delta 0.9346153846153846\n",
      "Run:  0\n",
      "Delta:  0.9961538461538462 Multiple of ITL 7.0 Modified delta 0.9961538461538462\n",
      "Run:  0\n"
     ]
    },
    {
     "data": {
      "text/plain": [
       "Text(0.5, 0, '$\\\\delta=n/p$')"
      ]
     },
     "execution_count": 4,
     "metadata": {},
     "output_type": "execute_result"
    },
    {
     "data": {
      "image/png": "[encoded data removed]",
      "text/plain": [
       "<Figure size 432x288 with 1 Axes>"
      ]
     },
     "metadata": {
      "needs_background": "light"
     },
     "output_type": "display_data"
    }
   ],
   "source": [
    "#!/usr/bin/env python3\n",
    "# -*- coding: utf-8 -*-\n",
    "\"\"\"\n",
    "Created on Mon Nov  6 14:56:53 2023\n",
    "\n",
    "@author: pp423\n",
    "\"\"\"\n",
    "%load_ext autoreload\n",
    "%autoreload 2\n",
    "\n",
    "import numpy as np\n",
    "import tikzplotlib\n",
    "import matplotlib.pyplot as plt\n",
    "\n",
    "from ipynb.fs.full.amp_qgt import sub_amp_bayes, create_beta, Yspatial_to_Ytilde\n",
    "from ipynb.fs.full.amp_qgt import Xspatial_to_Xtilde, CreateSpatialCouplingX, DefectCalc\n",
    "from ipynb.fs.full.amp_qgt import create_W, W_to_Wtilde, sc_amp_bayes, create_SC_matrix, Xsc_to_Xsctilde\n",
    "from ipynb.fs.full.se_qgt import state_ev_iid_disc, state_ev_iid_disc_sub, mmse_new\n",
    "from numpy.random import binomial\n",
    "\n",
    "\n",
    "theta = 0.8\n",
    "#number of subjects\n",
    "p = 520\n",
    "alpha = 0.5\n",
    "# defective chance\n",
    "noise = 0\n",
    "Gamma = 1\n",
    "WrcTrue = True\n",
    "w = 1\n",
    "W  = create_W(Gamma, w, alpha)\n",
    "Wtilde = W_to_Wtilde(W, alpha)\n",
    "run_no = 15\n",
    "ITL = int(2*(1-theta)/theta*p**theta)\n",
    "print(ITL)\n",
    "delta = 2\n",
    "\n",
    "delta_array = np.linspace(1, 7, num=15)\n",
    "\n",
    "se_delta_array = np.linspace(1, 7, num=101)\n",
    "\n",
    "nc_array_av = []\n",
    "nc_array_std = []\n",
    "se_nc_array = []\n",
    "\n",
    "\n",
    "for delta in delta_array:\n",
    "    #defective chance\n",
    "    nu = p**(theta-1)\n",
    "    \n",
    "    #number of tests\n",
    "    n = int(ITL*delta)\n",
    "\n",
    "    mse_runs = []\n",
    "    nc_runs = []\n",
    "    delta_hat = n/p*Gamma/(Gamma + w - 1)\n",
    "    print(\"Delta: \", n/p, \"Multiple of ITL\", delta, \"Modified delta\", delta_hat)\n",
    "    #IID\n",
    "    for run in range(run_no):\n",
    "        beta_0 = create_beta(nu, p)\n",
    "    \n",
    "        t = 100\n",
    "\n",
    "        if(run % 25 ==0):\n",
    "            print(\"Run: \", run)\n",
    "            \n",
    "        #X = CreateSpatialCouplingX(Gamma, w, n, p, alpha, WrcTrue)\n",
    "        X = create_SC_matrix(W, int(p/(Gamma)), alpha, delta_hat)\n",
    "        y = np.dot(X, beta_0)\n",
    "        \n",
    "        #AMP\n",
    "        #X_tilde = Xspatial_to_Xtilde(X, Gamma, w, n, p, alpha, WrcTrue)\n",
    "        X_tilde = Xsc_to_Xsctilde(X, W, alpha)\n",
    "        \n",
    "        defect_no = DefectCalc(beta_0, Gamma, p)\n",
    "        \n",
    "        #y_tilde = Yspatial_to_Ytilde(y, Gamma, w, n, p, alpha, WrcTrue, defect_no)\n",
    "        y_tilde = np.dot(X_tilde, beta_0)\n",
    "        #X_tilde_T = np.transpose(X_tilde)\n",
    "        phi, beta, mse_list = sc_amp_bayes(Wtilde, X_tilde, y_tilde, beta_0, nu, delta_hat,t)\n",
    "        norm_correl = (np.dot(beta, beta_0)/(np.linalg.norm(beta)*np.linalg.norm(beta_0)))**2\n",
    "        #print(beta, beta_0, norm_correl, beta,np.linalg.norm(beta), np.linalg.norm(beta_0),np.dot(beta, beta_0))\n",
    "        nc_runs.append(norm_correl)\n",
    "        \n",
    "    nc_array_av.append(np.average(nc_runs))\n",
    "    #print (np.average(nc_runs), nc_runs)\n",
    "    nc_array_std.append(np.std(nc_runs))\n",
    "    \n",
    "for delta in se_delta_array:    \n",
    "    #IID STATE EVOLUTION\n",
    "    tau, mse_pred, nc_pred, _ = state_ev_iid_disc_sub(delta, t, nu, p,  theta)\n",
    "    se_nc_array.append(nc_pred)\n",
    "    \n",
    "    \n",
    "plt.figure()\n",
    "plt.plot(se_delta_array, se_nc_array, label=r'SE', color = 'blue', linestyle = 'dashed')\n",
    "plt.errorbar(delta_array, nc_array_av, yerr=nc_array_std, label =r\"AMP\", fmt='*', color='blue',ecolor='lightblue', elinewidth=3, capsize=0)\n",
    "plt.grid(alpha=0.4)\n",
    "plt.legend()\n",
    "plt.ylabel('Correlation')\n",
    "plt.xlabel(r'$\\delta=n/p$')\n",
    "\n"
   ]
  },
  {
   "cell_type": "code",
   "execution_count": null,
   "id": "92200694",
   "metadata": {},
   "outputs": [],
   "source": []
  },
  {
   "cell_type": "code",
   "execution_count": null,
   "id": "7262cb99",
   "metadata": {},
   "outputs": [],
   "source": []
  },
  {
   "cell_type": "code",
   "execution_count": null,
   "id": "441d7147",
   "metadata": {},
   "outputs": [],
   "source": []
  },
  {
   "cell_type": "code",
   "execution_count": null,
   "id": "53e1ceda",
   "metadata": {},
   "outputs": [],
   "source": []
  },
  {
   "cell_type": "code",
   "execution_count": null,
   "id": "8986e755",
   "metadata": {},
   "outputs": [],
   "source": []
  }
 ],
 "metadata": {
  "kernelspec": {
   "display_name": "Python 3 (ipykernel)",
   "language": "python",
   "name": "python3"
  },
  "language_info": {
   "codemirror_mode": {
    "name": "ipython",
    "version": 3
   },
   "file_extension": ".py",
   "mimetype": "text/x-python",
   "name": "python",
   "nbconvert_exporter": "python",
   "pygments_lexer": "ipython3",
   "version": "3.9.12"
  }
 },
 "nbformat": 4,
 "nbformat_minor": 5
}
