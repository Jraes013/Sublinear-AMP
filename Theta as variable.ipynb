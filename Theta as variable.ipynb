"""
Created on Mon Nov  6 14:56:53 2023

Made for the Linear QGT problem by: pp423

Modified for the Sublinear QGT problem by: Järvi Raes
"""
%load_ext autoreload
%autoreload 2

import numpy as np
import tikzplotlib
import matplotlib.pyplot as plt
from ipynb.fs.full.amp_qgt import sub_amp_bayes, amp_bayes, create_beta, Xiid_to_Xtilde, y_iid_to_y_iid_tilde, quantize_new
from ipynb.fs.full.se_qgt import state_ev_iid_disc, state_ev_iid_disc_sub
from numpy.random import binomial

#number of subjects
p = 2500
noise = 0

run_no = 100


theta_array = np.linspace(0.01, 0.99, num=21)

se_theta_array = np.linspace(0.01, 0.99, num=101)

nc_array_av = []
nc_array_std = []
se_nc_array = []


for theta in theta_array:
    nu = p**(theta-1)
    print(nu)
    ITL1 = int(2*(1-theta)/theta*p**theta)
    print(ITL1)
    ITL2= int((1+np.sqrt(theta))/(1 - np.sqrt(theta))*2*(1-theta)/theta*p**theta)
    print(ITL1)
    delta = ITL1/(nu*p)
    
    print("Delta: ", delta, "Theta: ", theta)
    #number of tests
    n = int(delta*nu*p)
    
    mse_runs = []
    nc_runs = []
    
    #IID
    for run in range(run_no):
        beta_0 = create_beta(nu, p)
        #print(beta_0)
        t = 100
        #chance of inclusion in a test
        alpha = 0.5
        if(run % 25 ==0):
            print("Run: ", run)
            
        X = binomial(1, alpha, (n,p))
        y = np.dot(X, beta_0)
        
        #AMP
        X_tilde = Xiid_to_Xtilde(X, alpha)
        
        defect_no = np.sum(beta_0)
        
        y_tilde = y_iid_to_y_iid_tilde(y, alpha, nu, n, p, defect_no)
        X_tilde_T = np.transpose(X_tilde)
        beta, mse_pred, tau_array, error_norm_array, nc_array = sub_amp_bayes(X_tilde, X_tilde_T, y_tilde, t, nu, beta_0, theta, delta)
        #print(np.linalg.norm(beta))
        beta = quantize_new(beta, 0.15)
        #print(np.linalg.norm(beta),np.linalg.norm(beta_0))
        if np.linalg.norm(beta_0)==0:
            norm_correl = 1 
        else: 
            norm_correl = np.nan_to_num((np.dot(beta, beta_0)/(np.linalg.norm(beta)*np.linalg.norm(beta_0)))**2, nan = 0.0)
        
        nc_runs.append(norm_correl)
        
    #print(mse_pred, norm_correl, 1-(mse_pred/nu), nu)
    nc_array_av.append(np.average(nc_runs))
    nc_array_std.append(np.std(nc_runs))
    print(np.average(nc_runs))
    
for theta in se_theta_array: 
    nu = p**(theta-1)
    ITL1 = int(2*(1-theta)/theta*p**theta)
    ITL2= int((1+np.sqrt(theta))/(1 - np.sqrt(theta))*2*(1-theta)/theta*p**theta)
    delta = ITL2/(nu*p)
    

    #print(delta,t,nu,p,theta)
    #IID STATE EVOLUTION
    tau, mse_pred, nc_pred, _ = state_ev_iid_disc_sub(ITL1/(nu*p), t, nu, p,  theta)
    se_nc_array.append(nc_pred)
    
    
plt.figure()
plt.plot(se_theta_array, se_nc_array, label=r'SE', color = 'blue', linestyle = 'dashed')
plt.errorbar(theta_array, nc_array_av, yerr=nc_array_std, label =r"AMP", fmt='*', color='blue',ecolor='lightblue', elinewidth=3, capsize=0)
plt.grid(alpha=0.4)
plt.legend()
plt.ylabel('Correlation')
plt.xlabel(r'$\alpha$')

